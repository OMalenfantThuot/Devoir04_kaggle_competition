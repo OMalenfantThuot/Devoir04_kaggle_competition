{
 "cells": [
  {
   "cell_type": "code",
   "execution_count": 1,
   "metadata": {},
   "outputs": [
    {
     "name": "stderr",
     "output_type": "stream",
     "text": [
      "/home/oliviermt/miniconda3/lib/python3.6/site-packages/sklearn/utils/fixes.py:313: FutureWarning: numpy not_equal will not check object identity in the future. The comparison did not return the same result as suggested by the identity (`is`)) and will change.\n",
      "  _nan_object_mask = _nan_object_array != _nan_object_array\n"
     ]
    }
   ],
   "source": [
    "from sklearn import svm\n",
    "import numpy as np\n",
    "import matplotlib.pyplot as plt\n",
    "import cv2"
   ]
  },
  {
   "cell_type": "code",
   "execution_count": 3,
   "metadata": {},
   "outputs": [],
   "source": [
    "def define_classes(labels):\n",
    "    classes = {}\n",
    "    label = []\n",
    "    c = 0\n",
    "    for i,j in labels:\n",
    "        if j.decode('utf-8') not in classes:\n",
    "            classes[j.decode('utf-8')] = c\n",
    "            c += 1\n",
    "        label.append(classes[j.decode('utf-8')])    \n",
    "    return classes, np.array(label)"
   ]
  },
  {
   "cell_type": "code",
   "execution_count": 4,
   "metadata": {},
   "outputs": [],
   "source": [
    "def reshape_images(images):\n",
    "    train_im = []  \n",
    "    for i in range(images.shape[0]):\n",
    "        train_im.append(np.array(images[i][1]))\n",
    "    return np.array(train_im)"
   ]
  },
  {
   "cell_type": "code",
   "execution_count": 5,
   "metadata": {},
   "outputs": [],
   "source": [
    "classes, train_labels = define_classes(np.genfromtxt('train_labels.csv',names=True, delimiter=',', dtype=[('Id', 'i8'), ('Category', 'S5')]))\n",
    "train_images = reshape_images(np.load('Processed_andCleaned_train_images.npy', encoding='latin1'))\n",
    "test_images = reshape_images(np.load('Processed_andCleaned_test_images.npy', encoding='latin1'))\n",
    "train_images = train_images/np.max(train_images)\n",
    "test_images = test_images/np.max(test_images)"
   ]
  },
  {
   "cell_type": "code",
   "execution_count": 6,
   "metadata": {},
   "outputs": [],
   "source": [
    "def hu_moments(image):\n",
    "    feature = cv2.HuMoments(cv2.moments(image)).flatten()\n",
    "    return feature"
   ]
  },
  {
   "cell_type": "code",
   "execution_count": 17,
   "metadata": {},
   "outputs": [],
   "source": [
    "train_features = np.zeros((len(train_images), 7))\n",
    "test_features  = np.zeros((len(test_images),  7)) \n",
    "for i, image in enumerate(train_images):\n",
    "    moments = hu_moments(image)\n",
    "    train_features[i] = -np.sign(moments)*np.log(np.abs(moments))\n",
    "for i, image in enumerate(test_images):\n",
    "    moments = hu_moments(image)\n",
    "    test_features[i] = -np.sign(moments)*np.log(np.abs(moments))"
   ]
  },
  {
   "cell_type": "code",
   "execution_count": 18,
   "metadata": {},
   "outputs": [],
   "source": [
    "clf = svm.LinearSVC(penalty='l2', loss = 'squared_hinge', dual = False, tol = 0.0001, max_iter = 5000)"
   ]
  },
  {
   "cell_type": "code",
   "execution_count": 19,
   "metadata": {},
   "outputs": [
    {
     "data": {
      "text/plain": [
       "LinearSVC(C=1.0, class_weight=None, dual=False, fit_intercept=True,\n",
       "     intercept_scaling=1, loss='squared_hinge', max_iter=5000,\n",
       "     multi_class='ovr', penalty='l2', random_state=None, tol=0.0001,\n",
       "     verbose=0)"
      ]
     },
     "execution_count": 19,
     "metadata": {},
     "output_type": "execute_result"
    }
   ],
   "source": [
    "clf.fit(train_features, train_labels) "
   ]
  },
  {
   "cell_type": "code",
   "execution_count": 20,
   "metadata": {},
   "outputs": [
    {
     "data": {
      "text/plain": [
       "0.2195"
      ]
     },
     "execution_count": 20,
     "metadata": {},
     "output_type": "execute_result"
    }
   ],
   "source": [
    "clf.score(train_features,train_labels)"
   ]
  },
  {
   "cell_type": "code",
   "execution_count": 21,
   "metadata": {},
   "outputs": [],
   "source": [
    "predictions = clf.predict(test_features)"
   ]
  },
  {
   "cell_type": "code",
   "execution_count": 26,
   "metadata": {},
   "outputs": [],
   "source": [
    "import csv"
   ]
  },
  {
   "cell_type": "code",
   "execution_count": 27,
   "metadata": {},
   "outputs": [],
   "source": [
    "classes = {3:'apple',21:'empty',23:'moustache',6:'mouth',30:'mug',19:'nail',\n",
    "        13:'nose',22:'octagon',24:'paintbrush',25:'panda',26:'parrot',9:'peanut',16:'pear',\n",
    "        20:'pencil',18:'penguin',17:'pillow',5:'pineapple',15:'pool',10:'rabbit',\n",
    "        29:'rhinoceros',1:'rifle',8:'rollerskates',12:'sailboat',2:'scorpion',27:'screwdriver',\n",
    "        0:'shovel',11:'sink',7:'skateboard',14:'skull',4:'spoon',28:'squiggle'}"
   ]
  },
  {
   "cell_type": "code",
   "execution_count": 31,
   "metadata": {},
   "outputs": [],
   "source": [
    "with open('submission.csv', 'w') as submission:\n",
    "    writer = csv.writer(submission, delimiter = ',',\n",
    "            quotechar='\"', quoting=csv.QUOTE_MINIMAL)\n",
    "    for i, pred in enumerate(predictions):\n",
    "        writer.writerow([str(i), classes[pred]])"
   ]
  },
  {
   "cell_type": "code",
   "execution_count": null,
   "metadata": {},
   "outputs": [],
   "source": []
  }
 ],
 "metadata": {
  "kernelspec": {
   "display_name": "Python 3",
   "language": "python",
   "name": "python3"
  },
  "language_info": {
   "codemirror_mode": {
    "name": "ipython",
    "version": 3
   },
   "file_extension": ".py",
   "mimetype": "text/x-python",
   "name": "python",
   "nbconvert_exporter": "python",
   "pygments_lexer": "ipython3",
   "version": "3.6.6"
  }
 },
 "nbformat": 4,
 "nbformat_minor": 2
}
