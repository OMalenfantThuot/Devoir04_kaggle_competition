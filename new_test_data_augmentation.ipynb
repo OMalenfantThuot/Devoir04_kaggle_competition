{
 "cells": [
  {
   "cell_type": "code",
   "execution_count": 1,
   "metadata": {},
   "outputs": [],
   "source": [
    "import torch\n",
    "import torchvision\n",
    "import torchvision.transforms as transforms\n",
    "import matplotlib.pyplot as plt\n",
    "import numpy as np\n",
    "import torch.nn as nn\n",
    "import torch.nn.functional as F\n",
    "import torch.optim as optim\n",
    "import time\n",
    "import scipy.ndimage"
   ]
  },
  {
   "cell_type": "code",
   "execution_count": 2,
   "metadata": {},
   "outputs": [],
   "source": [
    "def reshape_images(images):\n",
    "    train_im = [] \n",
    "    for i in range(images.shape[0]):\n",
    "        train_im.append(torch.Tensor(images[i][1].reshape((1,100,100)).copy()) / 255.)\n",
    "    return train_im"
   ]
  },
  {
   "cell_type": "code",
   "execution_count": 3,
   "metadata": {},
   "outputs": [],
   "source": [
    "def augment_data(images, labels):\n",
    "    augmented_images = []\n",
    "    augmented_labels = []\n",
    "    for i in range(images.shape[0]):\n",
    "        image = images[i][1].reshape(100,100)\n",
    "        augmented_images.append(6*i)\n",
    "        augmented_images.append(image)\n",
    "        augmented_images.append(6*i+1)\n",
    "        augmented_images.append(np.flip(image, axis = 0))\n",
    "        augmented_images.append(6*i+2)\n",
    "        augmented_images.append(np.flip(image, axis = 1))\n",
    "        augmented_images.append(6*i+3)\n",
    "        augmented_images.append(np.transpose(image))\n",
    "        augmented_images.append(6*i+4)\n",
    "        augmented_images.append(scipy.ndimage.rotate(image, angle=3, reshape = False))\n",
    "        augmented_images.append(6*i+5)\n",
    "        augmented_images.append(scipy.ndimage.rotate(image, angle=-3, reshape = False))\n",
    "        augmented_labels.append((6*i  , labels[i][1]))\n",
    "        augmented_labels.append((6*i+1, labels[i][1]))\n",
    "        augmented_labels.append((6*i+2, labels[i][1]))\n",
    "        augmented_labels.append((6*i+3, labels[i][1]))\n",
    "        augmented_labels.append((6*i+4, labels[i][1]))\n",
    "        augmented_labels.append((6*i+5, labels[i][1]))\n",
    "    return np.array(augmented_images, dtype = object).reshape(-1, 2), np.array(augmented_labels, dtype = object)"
   ]
  },
  {
   "cell_type": "code",
   "execution_count": 4,
   "metadata": {},
   "outputs": [],
   "source": [
    "def shuffle_data(images, labels):\n",
    "    rng_state = np.random.get_state()\n",
    "    np.random.shuffle(images[:,1])\n",
    "    np.random.set_state(rng_state)\n",
    "    np.random.shuffle(labels[:,1])"
   ]
  },
  {
   "cell_type": "code",
   "execution_count": 5,
   "metadata": {},
   "outputs": [],
   "source": [
    "train_labels = np.genfromtxt('train_labels.csv',names=True, delimiter=',', dtype=[('Id', 'i8'), ('Category', 'S5')])\n",
    "images_train = np.load('train_images.npy',encoding='latin1')\n",
    "\n",
    "augmented_images, augmented_labels = augment_data(images_train, train_labels)"
   ]
  },
  {
   "cell_type": "code",
   "execution_count": 6,
   "metadata": {},
   "outputs": [
    {
     "name": "stdout",
     "output_type": "stream",
     "text": [
      "[[0 b'shove']\n",
      " [1 b'shove']\n",
      " [2 b'shove']\n",
      " ...\n",
      " [59997 b'penci']\n",
      " [59998 b'penci']\n",
      " [59999 b'penci']]\n"
     ]
    }
   ],
   "source": [
    "print(augmented_labels)"
   ]
  },
  {
   "cell_type": "code",
   "execution_count": 7,
   "metadata": {},
   "outputs": [],
   "source": [
    "shuffle_data(augmented_images, augmented_labels)"
   ]
  },
  {
   "cell_type": "code",
   "execution_count": 8,
   "metadata": {},
   "outputs": [
    {
     "name": "stdout",
     "output_type": "stream",
     "text": [
      "[[0 b'pool']\n",
      " [1 b'nail']\n",
      " [2 b'pear']\n",
      " ...\n",
      " [59997 b'rhino']\n",
      " [59998 b'skate']\n",
      " [59999 b'panda']]\n"
     ]
    }
   ],
   "source": [
    "print(augmented_labels)"
   ]
  },
  {
   "cell_type": "code",
   "execution_count": 12,
   "metadata": {},
   "outputs": [
    {
     "name": "stdout",
     "output_type": "stream",
     "text": [
      "b'scorp'\n"
     ]
    },
    {
     "data": {
      "text/plain": [
       "<matplotlib.image.AxesImage at 0x19eae9c09b0>"
      ]
     },
     "execution_count": 12,
     "metadata": {},
     "output_type": "execute_result"
    },
    {
     "data": {
      "image/png": "[encoded data removed]",
      "text/plain": [
       "<Figure size 432x288 with 1 Axes>"
      ]
     },
     "metadata": {
      "needs_background": "light"
     },
     "output_type": "display_data"
    }
   ],
   "source": [
    "print(augmented_labels[300][1])\n",
    "plt.imshow(augmented_images[300][1])"
   ]
  },
  {
   "cell_type": "code",
   "execution_count": null,
   "metadata": {},
   "outputs": [],
   "source": []
  }
 ],
 "metadata": {
  "kernelspec": {
   "display_name": "Python 3",
   "language": "python",
   "name": "python3"
  },
  "language_info": {
   "codemirror_mode": {
    "name": "ipython",
    "version": 3
   },
   "file_extension": ".py",
   "mimetype": "text/x-python",
   "name": "python",
   "nbconvert_exporter": "python",
   "pygments_lexer": "ipython3",
   "version": "3.7.0"
  }
 },
 "nbformat": 4,
 "nbformat_minor": 2
}
