{
 "cells": [
  {
   "cell_type": "code",
   "execution_count": 1,
   "metadata": {},
   "outputs": [],
   "source": [
    "import numpy as np\n",
    "import matplotlib.pyplot as plt"
   ]
  },
  {
   "cell_type": "code",
   "execution_count": 2,
   "metadata": {},
   "outputs": [
    {
     "name": "stdout",
     "output_type": "stream",
     "text": [
      "train images shape:  (10000, 2)\n",
      "train labels shape:  (10000,)\n"
     ]
    }
   ],
   "source": [
    "#loading images\n",
    "images_train = np.load('train_images.npy',encoding=\"latin1\")\n",
    "print (\"train images shape: \",images_train.shape)\n",
    "\n",
    "#loading labels\n",
    "train_labels= np.genfromtxt(\"train_labels.csv\", names =True, delimiter =',',\n",
    "                           dtype=[('Id','i8'),('Category','S5')])\n",
    "print('train labels shape: ',train_labels.shape)"
   ]
  },
  {
   "cell_type": "markdown",
   "metadata": {},
   "source": [
    "# Fonctions"
   ]
  },
  {
   "cell_type": "markdown",
   "metadata": {},
   "source": [
    "Si on a une image 100X100 (image1), il suffit de rouler resize dessus pour produire en sortie un recadrage 40X40.\n",
    "Les 2 autres fonctions sont des helpers"
   ]
  },
  {
   "cell_type": "code",
   "execution_count": 40,
   "metadata": {},
   "outputs": [],
   "source": [
    "def PixelDensity(image):\n",
    "    \"\"\" Clean an image by keeping only groups of pixels over a threshold density\n",
    "        First step : Create density groups\"\"\"\n",
    "    \n",
    "    test1 = (image>0) * np.ones((100,100))\n",
    "    built1 = np.zeros(test1.shape)\n",
    "    built1[0]  = test1[0]\n",
    "    for line in range(1,len(test1)):\n",
    "        built1[line]=test1[line]\n",
    "        if built1[line][0] > 0 : built1[line][0] += max(built1[line-1][:2])\n",
    "        for i in range(1,99):\n",
    "            if built1[line][i]>0:\n",
    "                built1[line][i] += max(built1[line-1][i-1:i+2])\n",
    "        if built1[line][-1]>0 : built1[line][-1]+= max(built1[line-1][-2:])\n",
    "\n",
    "    flip = test1.transpose()\n",
    "    built2 = np.zeros(flip.shape)\n",
    "    built2[0] = flip[0]\n",
    "    for line in range(1,len(flip)):\n",
    "        built2[line]=flip[line]\n",
    "        if built2[line][0] >0 : built2[line][0] += max(built2[line-1][:2])\n",
    "        for i in range(1,99):\n",
    "            if built2[line][i]>0:\n",
    "                built2[line][i] += max(built2[line-1][i-1:i+2])\n",
    "        if built2[line][-1]>0 : built2[line][-1]  += max(built2[line-1][-2:])\n",
    "\n",
    "    built1 = built1 + built2.transpose()\n",
    "\n",
    "    n=0\n",
    "    while n<10:\n",
    "\n",
    "        #propagate back\n",
    "        for line in range(-2,-len(test1),-1):\n",
    "            if built1[line][0] > 0 : built1[line][0] = (np.maximum(built1[line][:2],built1[line+1][:2])).max()\n",
    "            for i in range(1,99):\n",
    "                if built1[line][i] >0 :\n",
    "                    built1[line][i] = (np.maximum(built1[line][i-1:i+2],built1[line+1][i-1:i+2])).max()\n",
    "            if built1[line][-1]>0 : built1[line][-1] = (np.maximum(built1[line][-2:],built1[line+1][-2:])).max()\n",
    "\n",
    "        for line in range(1,len(test1)):\n",
    "            if built1[line][0] > 0 : built1[line][0] = (np.maximum(built1[line][:2],built1[line-1][:2])).max()\n",
    "            for i in range(1,99):\n",
    "                if built1[line][i] >0 :\n",
    "                    built1[line][i] = (np.maximum(built1[line][i-1:i+2],built1[line-1][i-1:i+2])).max()\n",
    "            if built1[line][-1]>0 : built1[line][-1] = (np.maximum(built1[line][-2:],built1[line-1][-2:])).max()\n",
    "\n",
    "        n +=1\n",
    "\n",
    "    #plt.imshow(built1)        #remnants of testing\n",
    "    #plt.show()\n",
    "\n",
    "    #propagate back transpose                           Remnants\n",
    "    \"\"\"\n",
    "    for line in range(-2,-len(flip),-1):\n",
    "        if built2[line][0] > 0 : built2[line][0] = (np.maximum(built2[line][0],built2[line+1][0])).max()\n",
    "        for i in range(1,99):\n",
    "            if built2[line][i] >0 :\n",
    "                built2[line][i] = (np.maximum(built2[line][i],built2[line+1][i])).max()\n",
    "        if built2[line][-1]>0 : built2[line][-1] = (np.maximum(built2[line][-1],built2[line-1][-1])).max()\"\"\"\n",
    "        \n",
    "    return built1\n",
    "\n",
    "def threshold(builder,param):\n",
    "    \"\"\" Setting the threshold and cleaning the image\"\"\"\n",
    "    \n",
    "    clean = (builder > param)*builder\n",
    "    return clean\n",
    "\n",
    "# Ok, now it is time to reshape around the image to keep as much details as we can:\n",
    "# Note : They all seem to fit inside 40X40\n",
    "\n",
    "def resize(image):\n",
    "    \"\"\" function trying to resize around relevant data \"\"\"\n",
    "    \n",
    "    build = PixelDensity(image)\n",
    "    ladder = build.max()\n",
    "    to_project = threshold(build,ladder-4)\n",
    "    \n",
    "    project_x = to_project.sum(axis=0)\n",
    "    project_y = to_project.sum(axis=1)\n",
    "    \n",
    "    inds_x = np.nonzero(project_x)[0]\n",
    "    inds_y = np.nonzero(project_y)[0]\n",
    "    \n",
    "    \n",
    "    off =0                                # off >0 plante pour des pixels proche de la frontière\n",
    "                                                #anyway,non-nécessaire. laisser à 0\n",
    "        \n",
    "    if (inds_x[-1]-inds_x[0])>39: inds_x[-1]= (inds_x[0]+39) \n",
    "    if (inds_y[-1]-inds_y[0])>39: inds_y[-1]= (inds_y[0]+39) \n",
    "    \n",
    "    crop = image[inds_y[0]-off:inds_y[-1]+off+1,inds_x[0]-off:inds_x[-1]+off+1]\n",
    "    centered = np.zeros((40,40))\n",
    "    x_off = (40-crop.shape[1])//2\n",
    "    y_off = (40-crop.shape[0])//2\n",
    "    \n",
    "    centered[y_off:crop.shape[0]+y_off,x_off:crop.shape[1]+x_off] = crop\n",
    "    \n",
    "    return centered"
   ]
  },
  {
   "cell_type": "markdown",
   "metadata": {},
   "source": [
    "## Exemple:"
   ]
  },
  {
   "cell_type": "code",
   "execution_count": 43,
   "metadata": {},
   "outputs": [
    {
     "data": {
      "text/plain": [
       "<matplotlib.image.AxesImage at 0x2b23eef3748>"
      ]
     },
     "execution_count": 43,
     "metadata": {},
     "output_type": "execute_result"
    },
    {
     "data": {
      "image/png": "[encoded data removed]",
      "text/plain": [
       "<Figure size 432x288 with 1 Axes>"
      ]
     },
     "metadata": {
      "needs_background": "light"
     },
     "output_type": "display_data"
    }
   ],
   "source": [
    "tester = (images_train[119][1]).reshape(100,100)\n",
    "\n",
    "recadrage = resize(tester)\n",
    "plt.imshow(recadrage)"
   ]
  },
  {
   "cell_type": "markdown",
   "metadata": {},
   "source": [
    "## Processing them all\n",
    "\n",
    "Okay, maintenant on va process tout le train set et tout le test set:"
   ]
  },
  {
   "cell_type": "code",
   "execution_count": 44,
   "metadata": {},
   "outputs": [
    {
     "name": "stdout",
     "output_type": "stream",
     "text": [
      "0 images de process\n",
      "200 images de process\n",
      "400 images de process\n",
      "600 images de process\n",
      "800 images de process\n",
      "1000 images de process\n",
      "1200 images de process\n",
      "1400 images de process\n",
      "1600 images de process\n",
      "1800 images de process\n",
      "2000 images de process\n",
      "2200 images de process\n",
      "2400 images de process\n",
      "2600 images de process\n",
      "2800 images de process\n",
      "3000 images de process\n",
      "3200 images de process\n",
      "3400 images de process\n",
      "3600 images de process\n",
      "3800 images de process\n",
      "4000 images de process\n",
      "4200 images de process\n",
      "4400 images de process\n",
      "4600 images de process\n",
      "4800 images de process\n",
      "5000 images de process\n",
      "5200 images de process\n",
      "5400 images de process\n",
      "5600 images de process\n",
      "5800 images de process\n",
      "6000 images de process\n",
      "6200 images de process\n",
      "6400 images de process\n",
      "6600 images de process\n",
      "6800 images de process\n",
      "7000 images de process\n",
      "7200 images de process\n",
      "7400 images de process\n",
      "7600 images de process\n",
      "7800 images de process\n",
      "8000 images de process\n",
      "8200 images de process\n",
      "8400 images de process\n",
      "8600 images de process\n",
      "8800 images de process\n",
      "9000 images de process\n",
      "9200 images de process\n",
      "9400 images de process\n",
      "9600 images de process\n",
      "9800 images de process\n"
     ]
    }
   ],
   "source": [
    "# train set\n",
    "\n",
    "to_store = np.zeros((10000,2),dtype=np.ndarray)\n",
    "\n",
    "for i in range(10000):\n",
    "    to_store[i][0] = images_train[i][0]\n",
    "    to_store[i][1] = (resize(images_train[i][1].reshape(100,100)))\n",
    "    \n",
    "    if i%200 == 0 : print(str(i)+\" images de process\")\n",
    "        \n",
    "np.save(\"Processed_train_images.npy\",to_store)"
   ]
  },
  {
   "cell_type": "code",
   "execution_count": 46,
   "metadata": {},
   "outputs": [
    {
     "name": "stdout",
     "output_type": "stream",
     "text": [
      "train images shape:  (10000, 2)\n"
     ]
    }
   ],
   "source": [
    "# Trying le loading des nouvelles donnés\n",
    "#loading images\n",
    "new_images_train = np.load('Processed_train_images.npy')\n",
    "print (\"train images shape: \",new_images_train.shape)"
   ]
  },
  {
   "cell_type": "code",
   "execution_count": 47,
   "metadata": {},
   "outputs": [
    {
     "data": {
      "text/plain": [
       "<matplotlib.image.AxesImage at 0x2b24712ecc0>"
      ]
     },
     "execution_count": 47,
     "metadata": {},
     "output_type": "execute_result"
    },
    {
     "data": {
      "image/png": "[encoded data removed]",
      "text/plain": [
       "<Figure size 432x288 with 1 Axes>"
      ]
     },
     "metadata": {
      "needs_background": "light"
     },
     "output_type": "display_data"
    }
   ],
   "source": [
    "ddata = new_images_train[9999][1].reshape(40,40)\n",
    "plt.imshow(ddata)"
   ]
  },
  {
   "cell_type": "code",
   "execution_count": 51,
   "metadata": {},
   "outputs": [
    {
     "name": "stdout",
     "output_type": "stream",
     "text": [
      "test images shape:  (10000, 2)\n"
     ]
    }
   ],
   "source": [
    "# Même chose mais pour le test set\n",
    "#loading images\n",
    "images_test = np.load('test_images.npy',encoding=\"latin1\")\n",
    "print (\"test images shape: \",images_test.shape)"
   ]
  },
  {
   "cell_type": "code",
   "execution_count": 52,
   "metadata": {},
   "outputs": [
    {
     "name": "stdout",
     "output_type": "stream",
     "text": [
      "0 images de process\n",
      "200 images de process\n",
      "400 images de process\n",
      "600 images de process\n",
      "800 images de process\n",
      "1000 images de process\n",
      "1200 images de process\n",
      "1400 images de process\n",
      "1600 images de process\n",
      "1800 images de process\n",
      "2000 images de process\n",
      "2200 images de process\n",
      "2400 images de process\n",
      "2600 images de process\n",
      "2800 images de process\n",
      "3000 images de process\n",
      "3200 images de process\n",
      "3400 images de process\n",
      "3600 images de process\n",
      "3800 images de process\n",
      "4000 images de process\n",
      "4200 images de process\n",
      "4400 images de process\n",
      "4600 images de process\n",
      "4800 images de process\n",
      "5000 images de process\n",
      "5200 images de process\n",
      "5400 images de process\n",
      "5600 images de process\n",
      "5800 images de process\n",
      "6000 images de process\n",
      "6200 images de process\n",
      "6400 images de process\n",
      "6600 images de process\n",
      "6800 images de process\n",
      "7000 images de process\n",
      "7200 images de process\n",
      "7400 images de process\n",
      "7600 images de process\n",
      "7800 images de process\n",
      "8000 images de process\n",
      "8200 images de process\n",
      "8400 images de process\n",
      "8600 images de process\n",
      "8800 images de process\n",
      "9000 images de process\n",
      "9200 images de process\n",
      "9400 images de process\n",
      "9600 images de process\n",
      "9800 images de process\n"
     ]
    }
   ],
   "source": [
    "# test set\n",
    "\n",
    "to_store2 = np.zeros((10000,2),dtype=np.ndarray)\n",
    "\n",
    "for i in range(10000):\n",
    "    to_store2[i][0] = images_test[i][0]\n",
    "    to_store2[i][1] = (resize(images_test[i][1].reshape(100,100)))\n",
    "    \n",
    "    if i%200 == 0 : print(str(i)+\" images de process\")\n",
    "        \n",
    "np.save(\"Processed_test_images.npy\",to_store2)"
   ]
  },
  {
   "cell_type": "code",
   "execution_count": 53,
   "metadata": {},
   "outputs": [
    {
     "name": "stdout",
     "output_type": "stream",
     "text": [
      "test images shape:  (10000, 2)\n"
     ]
    }
   ],
   "source": [
    "# Trying le loading des nouvelles donnés\n",
    "#loading images\n",
    "new_images_test = np.load('Processed_test_images.npy')\n",
    "print (\"test images shape: \",new_images_test.shape)"
   ]
  },
  {
   "cell_type": "code",
   "execution_count": 54,
   "metadata": {},
   "outputs": [
    {
     "data": {
      "text/plain": [
       "<matplotlib.image.AxesImage at 0x2b247762748>"
      ]
     },
     "execution_count": 54,
     "metadata": {},
     "output_type": "execute_result"
    },
    {
     "data": {
      "image/png": "[encoded data removed]",
      "text/plain": [
       "<Figure size 432x288 with 1 Axes>"
      ]
     },
     "metadata": {
      "needs_background": "light"
     },
     "output_type": "display_data"
    }
   ],
   "source": [
    "dddata = new_images_test[9999][1].reshape(40,40)\n",
    "plt.imshow(dddata)"
   ]
  },
  {
   "cell_type": "code",
   "execution_count": null,
   "metadata": {},
   "outputs": [],
   "source": []
  }
 ],
 "metadata": {
  "kernelspec": {
   "display_name": "Python 3",
   "language": "python",
   "name": "python3"
  },
  "language_info": {
   "codemirror_mode": {
    "name": "ipython",
    "version": 3
   },
   "file_extension": ".py",
   "mimetype": "text/x-python",
   "name": "python",
   "nbconvert_exporter": "python",
   "pygments_lexer": "ipython3",
   "version": "3.7.0"
  }
 },
 "nbformat": 4,
 "nbformat_minor": 2
}
